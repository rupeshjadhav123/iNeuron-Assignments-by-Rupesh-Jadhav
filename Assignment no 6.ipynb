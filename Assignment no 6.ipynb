{
 "cells": [
  {
   "cell_type": "code",
   "execution_count": null,
   "id": "515b47a7",
   "metadata": {},
   "outputs": [],
   "source": [
    "1. What are escape characters, and how do you use them?\n",
    "A.Escape characters represent characters in string values that would otherwise be difficult or impossible to type into code.\n",
    "\n",
    "\n",
    "2. What do the escape characters n and t stand for?\n",
    "A.\\n is a newline; \\t is a tab.\n",
    "\n",
    "3. What is the way to include backslash characters in a string?\n",
    "A.The \\\\ escape character will represent a backslash character.\n",
    "\n",
    "4. The string \"Howl's Moving Castle\" is a correct value. Why isn't the single quote character in the word Howl's not escaped a problem?\n",
    "A.The single quote in Howl's is fine because you’ve used double quotes to mark the beginning and end of the string.\n",
    "\n",
    "5. How do you write a string of newlines if you don't want to use the n character?\n",
    "A.Multiline strings allow you to use newlines in strings without the \\n escape character.\n",
    "\n",
    "6. What are the values of the given expressions?\n",
    "'Hello, world!'[1]           ='e'\n",
    "'Hello, world!'[0:5]         ='Hello'\n",
    "'Hello, world!'[:5]          ='Hello'\n",
    "'Hello, world!'[3:]          ='lo world!\n",
    "\n",
    "7. What are the values of the following expressions?\n",
    "'Hello'.upper()\n",
    "'Hello'.upper().isupper()\n",
    "'Hello'.upper().lower()\n",
    "A.'HELLO'\n",
    "\n",
    "   True\n",
    "\n",
    "  'hello'\n",
    "\n",
    "8. What are the values of the following expressions?\n",
    "'Remember, remember, the fifth of July.'.split()\n",
    "'-'.join('There can only one.'.split())\n",
    "A.['Remember,', 'remember,', 'the', 'fifth', 'of', 'November.']\n",
    "\n",
    "   'There-can-be-only-one.'\n",
    "\n",
    "\n",
    "9. What are the methods for right-justifying, left-justifying, and centering a string?\n",
    "A.rjust(), ljust(), and center()\n",
    "\n",
    "10. What is the best way to remove whitespace characters from the start or end?\n",
    "A.The lstrip() and rstrip() methods remove whitespace from the left and right ends of a string, respectively\n"
   ]
  }
 ],
 "metadata": {
  "kernelspec": {
   "display_name": "Python 3",
   "language": "python",
   "name": "python3"
  },
  "language_info": {
   "codemirror_mode": {
    "name": "ipython",
    "version": 3
   },
   "file_extension": ".py",
   "mimetype": "text/x-python",
   "name": "python",
   "nbconvert_exporter": "python",
   "pygments_lexer": "ipython3",
   "version": "3.8.8"
  }
 },
 "nbformat": 4,
 "nbformat_minor": 5
}
