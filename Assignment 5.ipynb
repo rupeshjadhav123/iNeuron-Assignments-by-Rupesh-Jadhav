{
 "cells": [
  {
   "cell_type": "code",
   "execution_count": 1,
   "id": "7cd20288",
   "metadata": {},
   "outputs": [
    {
     "ename": "SyntaxError",
     "evalue": "invalid syntax (<ipython-input-1-a8b84d42de6c>, line 2)",
     "output_type": "error",
     "traceback": [
      "\u001b[1;36m  File \u001b[1;32m\"<ipython-input-1-a8b84d42de6c>\"\u001b[1;36m, line \u001b[1;32m2\u001b[0m\n\u001b[1;33m    A.{}\u001b[0m\n\u001b[1;37m      ^\u001b[0m\n\u001b[1;31mSyntaxError\u001b[0m\u001b[1;31m:\u001b[0m invalid syntax\n"
     ]
    }
   ],
   "source": [
    "1. What does an empty dictionarys code look like?\n",
    "A.{}\n",
    "2. What is the value of a dictionary value with the key 'foo' and the value 42?\n",
    "A.'foo': 42}\n",
    "3. What is the most significant distinction between a dictionary and a list?\n",
    "A.The items stored in a dictionary are unordered, while the items in a list are ordered.\n",
    "\n",
    "4. What happens if you try to access spam[foo] if spam is {'bar': 100}?\n",
    "A.error .: name 'foo' is not defined  \n",
    "    \n",
    "5. If a dictionary is stored in spam, what is the difference between the expressions 'cat' in spam and\n",
    ";cat in spam.keys()?\n",
    "A.There is no difference. The in operator checks whether a value exists as a key in the dictionary.\n",
    "\n",
    "6. If a dictionary is stored in spam, what is the difference between the expressions 'cat' in spam and\n",
    "'cat' in spam.values()?\n",
    "A.'cat' in spam checks whether there is a 'cat' key in the dictionary, while 'cat' in spam.values() checks whether there is a value 'cat' for one of the keys in spam.\n",
    "\n",
    "\n",
    "7. What is a shortcut for the following code?\n",
    "if color not in spam:\n",
    "spam[colo] = 'black'\n",
    "A.spam.setdefault('color', 'black')\n",
    "\n",
    "8. How do you \"pretty print\" dictionary values using which module and function?\n",
    "A.pprint.pprint()"
   ]
  }
 ],
 "metadata": {
  "kernelspec": {
   "display_name": "Python 3",
   "language": "python",
   "name": "python3"
  },
  "language_info": {
   "codemirror_mode": {
    "name": "ipython",
    "version": 3
   },
   "file_extension": ".py",
   "mimetype": "text/x-python",
   "name": "python",
   "nbconvert_exporter": "python",
   "pygments_lexer": "ipython3",
   "version": "3.8.8"
  }
 },
 "nbformat": 4,
 "nbformat_minor": 5
}
