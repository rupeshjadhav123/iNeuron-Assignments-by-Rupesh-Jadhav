{
 "cells": [
  {
   "cell_type": "code",
   "execution_count": null,
   "id": "b66a8bea",
   "metadata": {},
   "outputs": [],
   "source": [
    "#1. Write a Python program to convert kilometers to miles?"
   ]
  },
  {
   "cell_type": "code",
   "execution_count": null,
   "id": "1d6ee6a5",
   "metadata": {},
   "outputs": [],
   "source": [
    "def kmtomile():\n",
    "    kilometer=float(input(\"Enter the vlaue of kilometer :\"))\n",
    "    print(\" {} km is equal to {} miles \".format(kilometer,kilometer*0.621))\n",
    "kmtomile()"
   ]
  },
  {
   "cell_type": "code",
   "execution_count": null,
   "id": "d04f8e6f",
   "metadata": {},
   "outputs": [],
   "source": [
    "#2. Write a Python program to convert Celsius to Fahrenheit?"
   ]
  },
  {
   "cell_type": "code",
   "execution_count": 3,
   "id": "1d1ea43d",
   "metadata": {},
   "outputs": [
    {
     "name": "stdout",
     "output_type": "stream",
     "text": [
      "Enter the value of celsius :38\n",
      "38.0 cel is equal to 100.4 fehrenheit\n"
     ]
    }
   ],
   "source": [
    "def celtofah():\n",
    "    celsius=float(input(\"Enter the value of celsius :\"))\n",
    "    fahrenheit=(celsius*1.8)+32\n",
    "    print(\"{} cel is equal to {} fehrenheit\".format(celsius,fahrenheit))\n",
    "celtofah()"
   ]
  },
  {
   "cell_type": "code",
   "execution_count": 4,
   "id": "94707850",
   "metadata": {},
   "outputs": [],
   "source": [
    "#3. Write a Python program to display calendar?"
   ]
  },
  {
   "cell_type": "code",
   "execution_count": 5,
   "id": "c229e790",
   "metadata": {},
   "outputs": [
    {
     "name": "stdout",
     "output_type": "stream",
     "text": [
      "Enter calender year: 2022\n",
      "                                  2022\n",
      "\n",
      "      January                   February                   March\n",
      "Mo Tu We Th Fr Sa Su      Mo Tu We Th Fr Sa Su      Mo Tu We Th Fr Sa Su\n",
      "                1  2          1  2  3  4  5  6          1  2  3  4  5  6\n",
      " 3  4  5  6  7  8  9       7  8  9 10 11 12 13       7  8  9 10 11 12 13\n",
      "10 11 12 13 14 15 16      14 15 16 17 18 19 20      14 15 16 17 18 19 20\n",
      "17 18 19 20 21 22 23      21 22 23 24 25 26 27      21 22 23 24 25 26 27\n",
      "24 25 26 27 28 29 30      28                        28 29 30 31\n",
      "31\n",
      "\n",
      "       April                      May                       June\n",
      "Mo Tu We Th Fr Sa Su      Mo Tu We Th Fr Sa Su      Mo Tu We Th Fr Sa Su\n",
      "             1  2  3                         1             1  2  3  4  5\n",
      " 4  5  6  7  8  9 10       2  3  4  5  6  7  8       6  7  8  9 10 11 12\n",
      "11 12 13 14 15 16 17       9 10 11 12 13 14 15      13 14 15 16 17 18 19\n",
      "18 19 20 21 22 23 24      16 17 18 19 20 21 22      20 21 22 23 24 25 26\n",
      "25 26 27 28 29 30         23 24 25 26 27 28 29      27 28 29 30\n",
      "                          30 31\n",
      "\n",
      "        July                     August                  September\n",
      "Mo Tu We Th Fr Sa Su      Mo Tu We Th Fr Sa Su      Mo Tu We Th Fr Sa Su\n",
      "             1  2  3       1  2  3  4  5  6  7                1  2  3  4\n",
      " 4  5  6  7  8  9 10       8  9 10 11 12 13 14       5  6  7  8  9 10 11\n",
      "11 12 13 14 15 16 17      15 16 17 18 19 20 21      12 13 14 15 16 17 18\n",
      "18 19 20 21 22 23 24      22 23 24 25 26 27 28      19 20 21 22 23 24 25\n",
      "25 26 27 28 29 30 31      29 30 31                  26 27 28 29 30\n",
      "\n",
      "      October                   November                  December\n",
      "Mo Tu We Th Fr Sa Su      Mo Tu We Th Fr Sa Su      Mo Tu We Th Fr Sa Su\n",
      "                1  2          1  2  3  4  5  6                1  2  3  4\n",
      " 3  4  5  6  7  8  9       7  8  9 10 11 12 13       5  6  7  8  9 10 11\n",
      "10 11 12 13 14 15 16      14 15 16 17 18 19 20      12 13 14 15 16 17 18\n",
      "17 18 19 20 21 22 23      21 22 23 24 25 26 27      19 20 21 22 23 24 25\n",
      "24 25 26 27 28 29 30      28 29 30                  26 27 28 29 30 31\n",
      "31\n",
      "\n"
     ]
    }
   ],
   "source": [
    "import calendar\n",
    "\n",
    "def showCalender():\n",
    "    year = int(input(\"Enter calender year: \"))\n",
    "    print(calendar.calendar(year))\n",
    "    \n",
    "showCalender()\n",
    "break"
   ]
  },
  {
   "cell_type": "code",
   "execution_count": 6,
   "id": "7ef6031f",
   "metadata": {},
   "outputs": [],
   "source": [
    "#4.Write a Python program to solve quadartic equation ?"
   ]
  },
  {
   "cell_type": "code",
   "execution_count": 17,
   "id": "b1b6c84f",
   "metadata": {},
   "outputs": [
    {
     "name": "stdout",
     "output_type": "stream",
     "text": [
      "enter a value:12\n",
      "enter a value:13\n",
      "enter a value:13\n",
      "Roots are Imaginary (-0.5416666666666666-0.8887803753208976j) (-0.5416666666666666+0.8887803753208976j)\n"
     ]
    }
   ],
   "source": [
    "import cmath\n",
    "import math\n",
    "\n",
    "def quadarticequationroots(a,b,c):\n",
    " \n",
    "    descriminant=b*b-4*a*c\n",
    "    \n",
    "    if  descriminant == 0:\n",
    "        r1=-b/2*a\n",
    "        r2=-b/2*a\n",
    "        print(\"Roots are real\",r1,r2)\n",
    "    elif  descriminant > 0 :\n",
    "        r1=(-b-math.sqrt( descriminant))/(2*a)\n",
    "        r2=(-b+math.sqrt( descriminant))/(2*a)\n",
    "        print(\"Roots are real and diffrent\",r1,r2)\n",
    "    else:\n",
    "        r1=(-b-cmath.sqrt( descriminant))/(2*a)\n",
    "        r2=(-b+cmath.sqrt( descriminant))/(2*a)\n",
    "        print(\"Roots are Imaginary\",r1,r2)\n",
    "\n",
    "a= int(input(\"enter a value:\"))   \n",
    "b= int(input(\"enter a value:\"))       \n",
    "c= int(input(\"enter a value:\")) \n",
    "\n",
    "quadarticequationroots(a,b,c)           "
   ]
  },
  {
   "cell_type": "code",
   "execution_count": 18,
   "id": "fcbbaf51",
   "metadata": {},
   "outputs": [],
   "source": [
    "#5.Write a Python program to swap two variables without temp variable ?"
   ]
  },
  {
   "cell_type": "code",
   "execution_count": 25,
   "id": "c20ae23d",
   "metadata": {},
   "outputs": [
    {
     "name": "stdout",
     "output_type": "stream",
     "text": [
      "Enter the first number:12\n",
      "Enter the second number:15\n",
      "number before swap : 12 15\n",
      "numbers after swaping: 15 12\n"
     ]
    }
   ],
   "source": [
    "num1=int(input(\"Enter the first number:\"))\n",
    "num2=int(input(\"Enter the second number:\"))\n",
    "def swapnumber(num1,num2):\n",
    "    print(\"number before swap :\", num1,num2)\n",
    "    num1=num1+num2\n",
    "    num2=num1-num2\n",
    "    num1=num1-num2\n",
    "    print(\"numbers after swaping:\",num1,num2)\n",
    "swapnumber(num1,num2)"
   ]
  }
 ],
 "metadata": {
  "kernelspec": {
   "display_name": "Python 3",
   "language": "python",
   "name": "python3"
  },
  "language_info": {
   "codemirror_mode": {
    "name": "ipython",
    "version": 3
   },
   "file_extension": ".py",
   "mimetype": "text/x-python",
   "name": "python",
   "nbconvert_exporter": "python",
   "pygments_lexer": "ipython3",
   "version": "3.8.8"
  }
 },
 "nbformat": 4,
 "nbformat_minor": 5
}
