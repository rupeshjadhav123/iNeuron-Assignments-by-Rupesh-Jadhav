{
 "cells": [
  {
   "cell_type": "code",
   "execution_count": null,
   "id": "f9f3da0c",
   "metadata": {},
   "outputs": [],
   "source": [
    "1. What exactly is []?\n",
    "A.The empty list value, which is a list value that contains no items. This is similar to how '' is the empty string value.\n",
    "\n",
    "2. In a list of values stored in a variable called spam, how would you assign the value 'hello' as the\n",
    "third value? (Assume [2, 4, 6, 8, 10] are in spam.)\n",
    "Lets pretend the spam includes the list ['a','b','c','d'] for the next three queries.\n",
    "A.spam[2] = 'hello'\n",
    "\n",
    "3. What is the value of spam[int(int(\"3\" * 2) / 11)]?\n",
    "A.[3]   \n",
    "                                     \n",
    "4. What is the value of spam[-1]?\n",
    "A.'d'\n",
    "                                     \n",
    "5. What is the value of spam[:2]?\n",
    "A.['a','b']\n",
    "\n",
    "Lets pretend bacon has the list [3.14, cat, 11, cat, True] for the next three questions.\n",
    "\n",
    "6. What is the value of bacon.indexcat()?\n",
    "A. 1\n",
    "\n",
    "7. How does bacon.append(99) change the look of the list value in bacon?\n",
    "A.[3.14, cat, 11, cat, True,99]\n",
    "\n",
    "8. How does bacon.remove(cat) change the look of the list in bacon?\n",
    "A.[3.14, 11, cat, True]\n",
    "\n",
    "9. What are the list concatenation and list replication operators?\n",
    "A.The operator for list concatenation is +, while the operator for replication is *.\n",
    "\n",
    "10. What is difference between the list methods append() and insert()?\n",
    "A.While append() will add values only to the end of a list, insert() can add them anywhere in the list.\n",
    "\n",
    "11. What are the two methods for removing items from a list?\n",
    "A.The del statement and the remove() list method are two ways to remove values from a list.\n",
    "\n",
    "12. Describe how list values and string values are identical.\n",
    "A.Both lists and strings can be passed to len(), have indexes and slices, be used in for loops, be concatenated or replicated, and be used with the in and not in operators.\n",
    "\n",
    "13. Whats the difference between tuples and lists?\n",
    "A.Lists are mutable; they can have values added, removed, or changed. Tuples are immutable; they cannot be changed at all. Also, tuples are written using parentheses, ( and ), while lists use the square brackets, [ and ].\n",
    "\n",
    "14. How do you type a tuple value that only contains the integer 42?\n",
    "A.(42,)\n",
    "15. How do you get a list values tuple form? How do you get a tuple values list form?\n",
    "A.The tuple() and list() functions, respectively\n",
    "\n",
    "16. Variables that &quot;contain&quot; list values are not necessarily lists themselves. Instead, what do they\n",
    "contain?\n",
    "A.They contain references to list values.\n",
    "\n",
    "17. How do you distinguish between copy.copy() and copy.deepcopy()?\n",
    "A.The copy.copy() function will do a shallow copy of a list, while the copy.deepcopy() function will do a deep copy of a list. That is, only copy.deepcopy() will duplicate any lists inside the list.\n"
   ]
  }
 ],
 "metadata": {
  "kernelspec": {
   "display_name": "Python 3",
   "language": "python",
   "name": "python3"
  },
  "language_info": {
   "codemirror_mode": {
    "name": "ipython",
    "version": 3
   },
   "file_extension": ".py",
   "mimetype": "text/x-python",
   "name": "python",
   "nbconvert_exporter": "python",
   "pygments_lexer": "ipython3",
   "version": "3.8.8"
  }
 },
 "nbformat": 4,
 "nbformat_minor": 5
}
