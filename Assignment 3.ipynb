{
 "cells": [
  {
   "cell_type": "code",
   "execution_count": null,
   "id": "f24d7067",
   "metadata": {},
   "outputs": [],
   "source": [
    "1. Why are functions advantageous to have in your programs?\n",
    "A.Functions reduce the need for duplicate code. This makes programs shorter, easier to read, and easier to update.\n",
    "\n",
    "2. When does the code in a function run: when its specified or when its called?\n",
    "A.The code in a function executes when the function is called, not when the function is defined.\n",
    "\n",
    "3. What statement creates a function?\n",
    "A.The def statement defines (that is, creates) a function.\n",
    "\n",
    "4. What is the difference between a function and a function call?\n",
    "A.A function consists of the def statement and the code in its def clause.\n",
    "  A function call is what moves the program execution into the function, and the function call evaluates to the function’s return value.\n",
    "\n",
    "5. How many global scopes are there in a Python program? How many local scopes?\n",
    "A.There is one global scope, and a local scope is created whenever a function is called.\n",
    "\n",
    "6. What happens to variables in a local scope when the function call returns?\n",
    "A.When a function returns, the local scope is destroyed, and all the variables in it are forgotten.\n",
    "\n",
    "7. What is the concept of a return value? Is it possible to have a return value in an expression?\n",
    "A.A return value is the value that a function call evaluates to. Like any value, a return value can be used as part of an expression.\n",
    "\n",
    "8. If a function does not have a return statement, what is the return value of a call to that function?\n",
    "A.If there is no return statement for a function, its return value is None.\n",
    "\n",
    "9. How do you make a function variable refer to the global variable?\n",
    "A.A global statement will force a variable in a function to refer to the global variable.\n",
    "\n",
    "10. What is the data type of None?\n",
    "A.The data type of None is NoneType.\n",
    "\n",
    "\n",
    "11. What does the sentence import areallyourpetsnamederic do?\n",
    "A.That import statement imports a module named areallyourpetsnamederic. (This isn’t a real Python module, by the way.)\n",
    "\n",
    "12. If you had a bacon() feature in a spam module, what would you call it after importing spam?\n",
    "A.This function can be called with spam.bacon().\n",
    "\n",
    "13. What can you do to save a programme from crashing if it encounters an error?\n",
    "Place the line of code that might cause an error in a try clause.\n",
    "\n",
    "14. What is the purpose of the try clause? What is the purpose of the except clause?\n",
    "A.The code that could potentially cause an error goes in the try clause.\n",
    "  The code that executes if an error happens goes in the except clause."
   ]
  }
 ],
 "metadata": {
  "kernelspec": {
   "display_name": "Python 3",
   "language": "python",
   "name": "python3"
  },
  "language_info": {
   "codemirror_mode": {
    "name": "ipython",
    "version": 3
   },
   "file_extension": ".py",
   "mimetype": "text/x-python",
   "name": "python",
   "nbconvert_exporter": "python",
   "pygments_lexer": "ipython3",
   "version": "3.8.8"
  }
 },
 "nbformat": 4,
 "nbformat_minor": 5
}
