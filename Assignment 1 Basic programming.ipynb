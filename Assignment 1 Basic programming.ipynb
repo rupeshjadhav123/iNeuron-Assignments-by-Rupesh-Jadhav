{
 "cells": [
  {
   "cell_type": "code",
   "execution_count": 1,
   "id": "738f098d",
   "metadata": {},
   "outputs": [],
   "source": [
    "#1.Write a Python program to print \"Hello Python\"?"
   ]
  },
  {
   "cell_type": "code",
   "execution_count": 3,
   "id": "5e3b5d4a",
   "metadata": {},
   "outputs": [
    {
     "name": "stdout",
     "output_type": "stream",
     "text": [
      "Hello Python\n"
     ]
    }
   ],
   "source": [
    "print(\"Hello Python\")"
   ]
  },
  {
   "cell_type": "code",
   "execution_count": 4,
   "id": "bd14b32c",
   "metadata": {},
   "outputs": [],
   "source": [
    "#2.Write a Python program to do arithmetical operations addition and division.?"
   ]
  },
  {
   "cell_type": "code",
   "execution_count": null,
   "id": "f26b9809",
   "metadata": {
    "scrolled": true
   },
   "outputs": [
    {
     "name": "stdout",
     "output_type": "stream",
     "text": [
      "Select a Arithmetic Operation:         \n",
      "1.Addition(+)        \n",
      "2.Division(-)        \n",
      "2.Multiplication(*)        \n",
      "4.Division(/)        \n",
      "3.Stop(0)\n",
      "\n",
      "Enter a arithmetic operation -> +\n",
      "\n",
      "Enter 1st Number: 1\n",
      "Enter 2nd Number: 3\n",
      "1+3=4\n",
      "\n"
     ]
    }
   ],
   "source": [
    "import operator\n",
    "\n",
    "ops = { \"+\": operator.add, \"-\": operator.sub, \"*\":operator.mul, \"/\":operator.truediv } \n",
    "\n",
    "print('Select a Arithmetic Operation: \\\n",
    "        \\n1.Addition(+)\\\n",
    "        \\n2.Division(-)\\\n",
    "        \\n2.Multiplication(*)\\\n",
    "        \\n4.Division(/)\\\n",
    "        \\n3.Stop(0)\\n')\n",
    "   \n",
    "\n",
    "while True:\n",
    "    operator = input('Enter a arithmetic operation -> ')\n",
    "    if operator == '0':\n",
    "        print(\"Program Stopped successfully\")\n",
    "        break\n",
    "    elif operator not in ['+','-','*','/']:\n",
    "        print(\"Please enter a valid operator\")\n",
    "    else:\n",
    "        num_1 = int(input('\\nEnter 1st Number: '))\n",
    "        num_2 = int(input('Enter 2nd Number: '))\n",
    "        print('{}{}{}={}\\n'.format(num_1, operator, num_2, ops[operator](num_1,num_2)))"
   ]
  },
  {
   "cell_type": "code",
   "execution_count": 9,
   "id": "ba10c9af",
   "metadata": {},
   "outputs": [
    {
     "name": "stdout",
     "output_type": "stream",
     "text": [
      "Enter the base of triangle: 12\n",
      "Enter the height of triangle: 14\n",
      "The area of triangle for vule of base and height  is equal to =  84.0\n"
     ]
    }
   ],
   "source": [
    "#3.Write a Python program to find the area of a triangle ?\n",
    "b=int(input(\"Enter the base of triangle: \"))\n",
    "h=int(input(\"Enter the height of triangle: \"))\n",
    "area_triangle=0.5*(b*h)\n",
    "print(\"The area of triangle for vule of base and height  is equal to = \" ,area_triangle)"
   ]
  },
  {
   "cell_type": "code",
   "execution_count": 10,
   "id": "1dad1200",
   "metadata": {},
   "outputs": [],
   "source": [
    "#4.Write a Python program to swap two variables?"
   ]
  },
  {
   "cell_type": "code",
   "execution_count": 16,
   "id": "b063e42e",
   "metadata": {},
   "outputs": [
    {
     "name": "stdout",
     "output_type": "stream",
     "text": [
      "Enter the first variable data : 12\n",
      "Enter the second variable data : 14\n",
      "old vaules of a and b is  12 14\n",
      "swap values of a and b is 14 12\n"
     ]
    }
   ],
   "source": [
    "a=int(input(\"Enter the first variable data : \"))\n",
    "b=int(input(\"Enter the second variable data : \"))\n",
    "temp=a\n",
    "a=b\n",
    "b=temp\n",
    "print(\"old vaules of a and b is \" ,temp,a)\n",
    "print(\"swap values of a and b is\", a,temp)\n",
    "break"
   ]
  },
  {
   "cell_type": "code",
   "execution_count": 17,
   "id": "ce722c96",
   "metadata": {},
   "outputs": [],
   "source": [
    "#5.Write a Python program to generate a random number ?"
   ]
  },
  {
   "cell_type": "code",
   "execution_count": 22,
   "id": "14e48b36",
   "metadata": {},
   "outputs": [
    {
     "name": "stdout",
     "output_type": "stream",
     "text": [
      "Random number ->  10\n",
      "Random number ->  4\n"
     ]
    }
   ],
   "source": [
    "from random import randint\n",
    "def generateRandomNumber(start=0, end=10):\n",
    "    print('Random number -> ',randint(start,end))\n",
    "# Generating random numbers without arguments    \n",
    "generateRandomNumber()\n",
    "\n",
    "# Generating random numbers with arguments    \n",
    "generateRandomNumber(0,100)"
   ]
  }
 ],
 "metadata": {
  "kernelspec": {
   "display_name": "Python 3",
   "language": "python",
   "name": "python3"
  },
  "language_info": {
   "codemirror_mode": {
    "name": "ipython",
    "version": 3
   },
   "file_extension": ".py",
   "mimetype": "text/x-python",
   "name": "python",
   "nbconvert_exporter": "python",
   "pygments_lexer": "ipython3",
   "version": "3.8.8"
  }
 },
 "nbformat": 4,
 "nbformat_minor": 5
}
