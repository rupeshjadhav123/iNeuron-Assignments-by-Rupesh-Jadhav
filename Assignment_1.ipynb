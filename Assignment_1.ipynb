{
 "cells": [
  {
   "cell_type": "code",
   "execution_count": 3,
   "id": "5a8e5bfd",
   "metadata": {},
   "outputs": [
    {
     "ename": "SyntaxError",
     "evalue": "invalid syntax (<ipython-input-3-f9f4056e538b>, line 1)",
     "output_type": "error",
     "traceback": [
      "\u001b[1;36m  File \u001b[1;32m\"<ipython-input-3-f9f4056e538b>\"\u001b[1;36m, line \u001b[1;32m1\u001b[0m\n\u001b[1;33m    Q.1.1. In the below elements which of them are values or an expression? eg:- values can be integer or string and expressions will be mathematical operators.\u001b[0m\n\u001b[1;37m     ^\u001b[0m\n\u001b[1;31mSyntaxError\u001b[0m\u001b[1;31m:\u001b[0m invalid syntax\n"
     ]
    }
   ],
   "source": [
    "Q.1.1. In the below elements which of them are values or an expression? eg:- values can be integer or string and expressions will be mathematical operators.\n",
    "* \n",
    "'hello'\n",
    "-87.8\n",
    "- \n",
    "/ \n",
    "\n",
    "\n",
    "6 \n",
    "\n",
    "Answer:\n",
    "    Values:'hello' , -87.8 , 6\n",
    "    expressions:*,-,/\n",
    "\n",
    "Q.2.What is the difference between string and variable?\n",
    "\n",
    "Answer:\n",
    "    a string is a value representing text\n",
    "    a variable is a name that can refer to any value\n",
    "      e.g. a=\"apple\"  whrer a is varible and \"apple\" is string.\n",
    "\n",
    "Q.3.Describe three different data types.\n",
    "\n",
    "Answer:\n",
    "    1.Integer (int) \n",
    "     It is the most common numeric data type used to store numbers without a fractional component (-707, 0, 707).\n",
    "    2.Floating Point (float)\n",
    "     It is also a numeric data type used to store numbers that may have a fractional component, like monetary values do (707.07, 0.7, 707.00). \n",
    "    3.String (str or text)\n",
    "     It is a sequence of characters and the most commonly used data type to store text. Additionally, a string can also include digits and symbols, however, it is always treated as text.\n",
    "\n",
    "Q.4.What is an expression made up of? What do all expressions do?  \n",
    "\n",
    "Answer: An expression is a combination of values, variables, operators, and calls to functions. Expressions need to be evaluated. If you ask Python to print an expression, the interpreter evaluates the expression and displays the result.\n",
    "\n",
    "Q.5. This assignment statements, like spam = 10. What is the difference between an expression and a statement? \n",
    "\n",
    "Answer:The statements are always writtrn in the form of loop or condition .In programming language terminology, an “expression” is a combination of values and functions that are combined and interpreted by the compiler to create a new value, as opposed to a “statement” which is just a standalone unit of execution and doesn't return anything.\n",
    "\n",
    "Q.6.6. After running the following code, what does the variable bacon contain?\n",
    "bacon = 22\n",
    "bacon + 1\n",
    "\n",
    "Answer:23\n",
    "    \n",
    "Q7. What should the values of the following two terms be?\n",
    "'spam' + 'spamspam'\n",
    "'spam' * 3\n",
    "\n",
    "Answer:'spamspamspam'\n",
    "\n",
    "Q.8. Why is eggs a valid variable name while 100 is invalid?\n",
    "Answer:Variable names cannot begin with a number thats why 100 is invalid and eggs a valid variable name.\n",
    "\n",
    "Q.9. What three functions can be used to get the integer, floating-point number, or string version of a value?\n",
    "\n",
    "Answer:    int() , float() , and str( ) functions\n",
    "\n",
    "Q.10. Why does this expression cause an error? How can you fix it?\n",
    "'I have eaten ' + 99 + ' burritos.'\n",
    "\n",
    "Answer: We can can only concatenate str (not \"int\") to str\n",
    "        fix it-'I have eaten ' + \"9\" + ' burritos.'"
   ]
  }
 ],
 "metadata": {
  "kernelspec": {
   "display_name": "Python 3",
   "language": "python",
   "name": "python3"
  },
  "language_info": {
   "codemirror_mode": {
    "name": "ipython",
    "version": 3
   },
   "file_extension": ".py",
   "mimetype": "text/x-python",
   "name": "python",
   "nbconvert_exporter": "python",
   "pygments_lexer": "ipython3",
   "version": "3.8.8"
  }
 },
 "nbformat": 4,
 "nbformat_minor": 5
}
